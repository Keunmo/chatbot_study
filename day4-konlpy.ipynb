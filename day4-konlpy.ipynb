{
 "cells": [
  {
   "cell_type": "code",
   "execution_count": 1,
   "id": "cubic-juice",
   "metadata": {},
   "outputs": [],
   "source": [
    "import konlpy"
   ]
  },
  {
   "cell_type": "markdown",
   "id": "modern-grave",
   "metadata": {},
   "source": [
    "konlpy의 Tag서브 패키지에서 5개의 형태소 분석기를 제공한다.  \n",
    "Hannanum, Kkma, Komoran, Mecab, twitter  \n",
    "여기선 Kkma를 사용한다."
   ]
  },
  {
   "cell_type": "code",
   "execution_count": 2,
   "id": "starting-button",
   "metadata": {},
   "outputs": [],
   "source": [
    "from konlpy.tag import Kkma\n",
    "kkma = Kkma()"
   ]
  },
  {
   "cell_type": "markdown",
   "id": "fitted-special",
   "metadata": {},
   "source": [
    "morphs()를 사용해 의미가 있는 가장 작은 말의 단위로 분리한다."
   ]
  },
  {
   "cell_type": "code",
   "execution_count": 3,
   "id": "bacterial-tulsa",
   "metadata": {},
   "outputs": [
    {
     "name": "stdout",
     "output_type": "stream",
     "text": [
      "['공부', '를', '하', '면', '하', 'ㄹ수록', '모르', '는', '것', '이', '많', '다는', '것', '을', '알', '게', '되', 'ㅂ니다', '.']\n"
     ]
    }
   ],
   "source": [
    "print(kkma.morphs('공부를 하면할수록 모르는게 많다는 것을 알게 됩니다.'))"
   ]
  },
  {
   "cell_type": "markdown",
   "id": "virtual-sunset",
   "metadata": {},
   "source": [
    "nouns(): 명사만 추출  \n",
    "pos(): 품사 태깅  "
   ]
  },
  {
   "cell_type": "code",
   "execution_count": 4,
   "id": "upper-government",
   "metadata": {},
   "outputs": [
    {
     "name": "stdout",
     "output_type": "stream",
     "text": [
      "['하늘', '을', '날', '는', '자동차']\n",
      "['공부', '를', '하', '면', '하', 'ㄹ수록', '모르', '는', '것', '이', '많', '다는', '것', '을', '알', '게', '되', 'ㅂ니다', '.']\n",
      "[('공부', 'NNG'), ('를', 'JKO'), ('하', 'VV'), ('면', 'ECE'), ('하', 'VV'), ('ㄹ수록', 'ECD'), ('모르', 'VV'), ('는', 'ETD'), ('것', 'NNB'), ('이', 'JKS'), ('많', 'VA'), ('다는', 'ETD'), ('것', 'NNB'), ('을', 'JKO'), ('알', 'VV'), ('게', 'ECD'), ('되', 'VV'), ('ㅂ니다', 'EFN'), ('.', 'SF')]\n",
      "['공부']\n"
     ]
    }
   ],
   "source": [
    "sent1 = '하늘을 나는 자동차'\n",
    "sent2 = '공부를 하면할수록 모르는게 많다는 것을 알게 됩니다.'\n",
    "print(kkma.morphs(sent1))\n",
    "print(kkma.morphs(sent2))\n",
    "print(kkma.pos(sent2))\n",
    "print(kkma.nouns(sent2))"
   ]
  },
  {
   "cell_type": "code",
   "execution_count": 26,
   "id": "wrapped-assembly",
   "metadata": {},
   "outputs": [],
   "source": [
    "def filesave(path, obj):\n",
    "    outfile = open(path, 'w')\n",
    "    outfile.write(str(obj))\n",
    "    outfile.close()"
   ]
  },
  {
   "cell_type": "code",
   "execution_count": 29,
   "id": "plastic-spokesman",
   "metadata": {},
   "outputs": [],
   "source": [
    "from konlpy.corpus import kolaw\n",
    "sent = kolaw.open('constitution.txt').read()\n",
    "filesave(\"./kolaw_morphs.txt\", kkma.morphs(sent))\n",
    "# outfile = open(\"./kolaw_morphs.txt\", 'w')\n",
    "# outfile.write(str(kkma.morphs(sent)))\n",
    "# outfile.close()"
   ]
  },
  {
   "cell_type": "code",
   "execution_count": 31,
   "id": "nasty-foster",
   "metadata": {},
   "outputs": [],
   "source": [
    "filesave(\"./kolaw_tagging.txt\", kkma.pos(sent))\n",
    "# outfile = open(\"./kolaw_tagging.txt\", 'w')\n",
    "# outfile.write(str(kkma.pos(sent)))\n",
    "# outfile.close()"
   ]
  },
  {
   "cell_type": "code",
   "execution_count": 30,
   "id": "coupled-error",
   "metadata": {},
   "outputs": [],
   "source": [
    "filesave(\"./kolaw_nouns.txt\", kkma.nouns(sent))\n",
    "# outfile = open(\"./kolaw_nouns.txt\", 'w')\n",
    "# outfile.write(str(kkma.nouns(sent)))\n",
    "# outfile.close()"
   ]
  },
  {
   "cell_type": "code",
   "execution_count": 17,
   "id": "baking-maple",
   "metadata": {},
   "outputs": [
    {
     "name": "stdout",
     "output_type": "stream",
     "text": [
      "[(('의', 'JKG'), 532), (('.', 'SF'), 359), (('하', 'XSV'), 350), (('에', 'JKM'), 328), (('ㄴ다', 'EFN'), 243), (('ㄴ', 'ETD'), 234), (('을', 'JKO'), 211), (('은', 'JX'), 182), (('는', 'JX'), 180), (('저', 'NP'), 155)]\n"
     ]
    }
   ],
   "source": [
    "from collections import Counter\n",
    "doc = kolaw.open('constitution.txt').read()\n",
    "pos = kkma.pos(doc)\n",
    "cnt = Counter(pos)\n",
    "print(cnt.most_common(10))"
   ]
  },
  {
   "cell_type": "code",
   "execution_count": 19,
   "id": "subjective-fusion",
   "metadata": {},
   "outputs": [
    {
     "name": "stdout",
     "output_type": "stream",
     "text": [
      "[('조', 3), ('이', 3), ('우리', 2), ('일', 2), ('장', 2), ('수', 2), ('자', 2), ('외', 2), ('인', 2), ('관', 2), ('대한', 1), ('대한민국', 1), ('대한민국헌법', 1), ('민국', 1), ('헌법', 1), ('유구', 1), ('역사', 1), ('전통', 1), ('국민', 1), ('3', 1), ('1', 1), ('1운동', 1), ('운동', 1), ('건립', 1), ('대한민국임시정부', 1), ('임시', 1), ('정부', 1), ('법통', 1), ('불의', 1), ('항거', 1), ('4', 1), ('19', 1), ('19민주이념', 1), ('민주', 1), ('이념', 1), ('계승', 1), ('조국', 1), ('민주개혁', 1), ('개혁', 1), ('평화적', 1), ('통일', 1), ('사명', 1), ('입각', 1), ('정의', 1), ('인도', 1), ('동포애', 1), ('민족', 1), ('단결', 1), ('사회적', 1), ('폐습', 1), ('타파', 1), ('자율', 1), ('조화', 1), ('바탕', 1), ('자유', 1), ('자유민주적', 1), ('민주적', 1), ('기본', 1), ('기본질서', 1), ('질서', 1), ('정치', 1), ('경제', 1), ('사회', 1), ('문화', 1), ('영역', 1), ('각인', 1), ('기회', 1), ('균등', 1), ('균등히', 1), ('히', 1), ('능력', 1), ('최고', 1), ('최고도로', 1), ('도로', 1), ('발휘', 1), ('권리', 1), ('책임', 1), ('의무', 1), ('완수', 1), ('안', 1), ('국민생활', 1), ('생활', 1), ('향상', 1), ('밖', 1), ('항구적', 1), ('세계', 1), ('세계평화', 1), ('평화', 1), ('인류', 1), ('인류공영', 1), ('공영', 1), ('이바지', 1), ('자손', 1), ('안전', 1), ('행복', 1), ('확보', 1), ('다짐', 1), ('1948', 1), ('1948년', 1), ('년', 1)]\n"
     ]
    }
   ],
   "source": [
    "nouns = kkma.nouns(doc)\n",
    "cnt = Counter(nouns)\n",
    "print(cnt.most_common(100))"
   ]
  },
  {
   "cell_type": "markdown",
   "id": "annual-atlantic",
   "metadata": {},
   "source": [
    "wordcloud를 그릴 수 있다."
   ]
  },
  {
   "cell_type": "code",
   "execution_count": 23,
   "id": "occupational-reader",
   "metadata": {},
   "outputs": [],
   "source": [
    "from konlpy.tag import Hannanum\n",
    "import webbrowser\n",
    "import random\n",
    "import pytagcloud\n",
    "\n",
    "r = lambda : random.randint(0,255)\n",
    "color = lambda:(r(), r(), r())\n",
    "\n",
    "def get_tags(text, ntags=50, multiplier=3):\n",
    "    kkma = Hannanum()\n",
    "    kkma_nouns = kkma.nouns(text)\n",
    "    cnt = Counter(kkma_nouns)\n",
    "    return [{'color':color(), 'tag':n, 'size':c*multiplier} for n, c in cnt.most_common(ntags)]"
   ]
  },
  {
   "cell_type": "code",
   "execution_count": 33,
   "id": "rubber-protest",
   "metadata": {},
   "outputs": [
    {
     "name": "stdout",
     "output_type": "stream",
     "text": [
      "[{'color': (38, 189, 180), 'tag': '법률', 'size': 345}, {'color': (30, 26, 27), 'tag': '수', 'size': 273}, {'color': (80, 4, 157), 'tag': '①', 'size': 234}, {'color': (226, 195, 135), 'tag': '때', 'size': 165}, {'color': (129, 226, 60), 'tag': '국회', 'size': 159}, {'color': (75, 193, 33), 'tag': '국민', 'size': 153}, {'color': (213, 162, 136), 'tag': '대통령', 'size': 150}, {'color': (87, 185, 187), 'tag': '바', 'size': 111}, {'color': (196, 210, 129), 'tag': '국가', 'size': 108}, {'color': (3, 12, 1), 'tag': '헌법', 'size': 93}, {'color': (143, 59, 75), 'tag': '필요', 'size': 90}, {'color': (75, 27, 138), 'tag': '기타', 'size': 78}, {'color': (202, 32, 110), 'tag': '이', 'size': 69}, {'color': (255, 250, 211), 'tag': '권리', 'size': 60}, {'color': (21, 132, 214), 'tag': '사항', 'size': 60}, {'color': (68, 41, 121), 'tag': '자유', 'size': 57}, {'color': (247, 130, 94), 'tag': '임명', 'size': 57}, {'color': (129, 175, 126), 'tag': '정부', 'size': 54}, {'color': (209, 182, 217), 'tag': '이상', 'size': 54}, {'color': (16, 145, 127), 'tag': '의무', 'size': 51}, {'color': (0, 161, 137), 'tag': '의결', 'size': 51}, {'color': (97, 186, 38), 'tag': '경우', 'size': 51}, {'color': (204, 190, 66), 'tag': '임기', 'size': 48}, {'color': (68, 214, 205), 'tag': '노력', 'size': 39}, {'color': (182, 169, 13), 'tag': '공무원', 'size': 39}, {'color': (60, 242, 196), 'tag': '보호', 'size': 36}, {'color': (18, 100, 196), 'tag': '국회의원', 'size': 36}, {'color': (78, 145, 191), 'tag': '찬성', 'size': 36}, {'color': (110, 111, 118), 'tag': '국무위원', 'size': 36}, {'color': (0, 61, 11), 'tag': '보장', 'size': 33}, {'color': (73, 120, 17), 'tag': '자', 'size': 33}, {'color': (127, 242, 239), 'tag': '법관', 'size': 33}, {'color': (182, 52, 93), 'tag': '요구', 'size': 33}, {'color': (195, 169, 22), 'tag': '과반수', 'size': 33}, {'color': (250, 155, 187), 'tag': '국무총리', 'size': 33}, {'color': (174, 228, 219), 'tag': '대통령의', 'size': 33}, {'color': (198, 174, 206), 'tag': '조약', 'size': 30}, {'color': (98, 155, 239), 'tag': '효력', 'size': 27}, {'color': (74, 98, 56), 'tag': '심판', 'size': 27}, {'color': (255, 78, 131), 'tag': '법원', 'size': 27}, {'color': (160, 124, 25), 'tag': '동의', 'size': 27}, {'color': (183, 173, 7), 'tag': '국회재적의원', 'size': 27}, {'color': (77, 224, 73), 'tag': '대한민국', 'size': 24}, {'color': (195, 21, 211), 'tag': '인정', 'size': 24}, {'color': (223, 30, 23), 'tag': '구성', 'size': 24}, {'color': (218, 192, 154), 'tag': '제출', 'size': 24}, {'color': (224, 166, 177), 'tag': '법률안', 'size': 24}, {'color': (81, 55, 157), 'tag': '대법원장', 'size': 24}, {'color': (162, 23, 177), 'tag': '전', 'size': 21}, {'color': (52, 12, 220), 'tag': '것', 'size': 21}]\n"
     ]
    }
   ],
   "source": [
    "def draw_cloud(tags, filename, fontname='Nanum Gothic Coding', size=(1280,720)):\n",
    "    pytagcloud.create_tag_image(tags, filename, fontname=fontname, size=size)\n",
    "    webbrowser.open(filename)\n",
    "    \n",
    "tags = get_tags(sent)\n",
    "print(tags)\n",
    "draw_cloud(tags, './wordcloud.png')"
   ]
  }
 ],
 "metadata": {
  "kernelspec": {
   "display_name": "Python 3",
   "language": "python",
   "name": "python3"
  },
  "language_info": {
   "codemirror_mode": {
    "name": "ipython",
    "version": 3
   },
   "file_extension": ".py",
   "mimetype": "text/x-python",
   "name": "python",
   "nbconvert_exporter": "python",
   "pygments_lexer": "ipython3",
   "version": "3.8.3"
  }
 },
 "nbformat": 4,
 "nbformat_minor": 5
}

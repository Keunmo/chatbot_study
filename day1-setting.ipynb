{
 "cells": [
  {
   "cell_type": "markdown",
   "id": "earlier-salvation",
   "metadata": {},
   "source": [
    "# Settings  \n",
    "## Themes  \n",
    "테마 설치: ```pip install jupyterthemes```  \n",
    "설치 가능한 테마 확인: ```jt -l```  \n",
    "테마 변경: ```jt -t '변경할 테마 이름'```  \n",
    "테마 초기화: ```jt -r```  \n",
    "\n",
    "## 주피터 확장팩 설치\n",
    "```pip install jupyter_contrib_nbextensions```  \n",
    "```jupyter contrib nbextension install --user```  \n"
   ]
  }
 ],
 "metadata": {
  "kernelspec": {
   "display_name": "Python 3",
   "language": "python",
   "name": "python3"
  },
  "language_info": {
   "codemirror_mode": {
    "name": "ipython",
    "version": 3
   },
   "file_extension": ".py",
   "mimetype": "text/x-python",
   "name": "python",
   "nbconvert_exporter": "python",
   "pygments_lexer": "ipython3",
   "version": "3.8.3"
  }
 },
 "nbformat": 4,
 "nbformat_minor": 5
}
